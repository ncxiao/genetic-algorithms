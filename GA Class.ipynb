{
 "cells": [
  {
   "cell_type": "markdown",
   "metadata": {},
   "source": [
    "# Using GABase\n",
    "\n",
    "A Python class called `GABase` is defined in [ga.py](ga.py) and it can be used to derive new classes for solving specific problems. `GABase` is an abstract class that contains the following 5 abstract methods:\n",
    "\n",
    "```python\n",
    "obj(self, s)\n",
    "initialization(self)\n",
    "obj2fitness(self)\n",
    "crossover(self, s1, s2)\n",
    "mutation(self, s)\n",
    "```\n",
    "\n",
    "These abstract methods must be implemented in the derived classes. In addition, the derived class may also override other methods to accommodate problem-specific requirements. Two examples of overriding `GABase` are provided in the repository for solving a numerical optimization problem using binary strings ([ga_base_binary.py](ga_base_binary.py)) and the p-median problem ([ga_base_pmed.py](ga_base_pmed.py)). The details of these two examples are shown below.\n",
    "\n",
    "The `ga` module also contains another class called `Parameters` that can be used to store the parameters used by a GA. This class includes the following commonly used parameters for a GA:\n",
    "\n",
    "```\n",
    "popsize      - population size, integer\n",
    "numgen       - number of generations, integer\n",
    "pcrossover   - probability of crossover, float between 0 and 1\n",
    "pmutation    - probability of mutation, float between 0 and 1\n",
    "elitism      - use of elitism, boolean\n",
    "```\n",
    "\n",
    "\n",
    "## Numerical optimization using binary strings\n",
    "\n",
    "We write a new GA class to solve the following problem:\n",
    "\n",
    "$$\\max x_1^2 - x_2 - x_3 + 1$$\n",
    "\n",
    "where $x_1$, $x_2$, and $x_3$ are integers in the range of 0 and 7. This is a simple problem where the optimal solution is $x_1 = 7, x_2 = 0, x_3 = 0$. We will a binary string to encode a solution to the problem.\n",
    "\n",
    "The following code is from [ga_base_binary.py](ga_base_binary.py).\n",
    "\n",
    "We first import the `ga` module and necessary other modules (`random` in this case):"
   ]
  },
  {
   "cell_type": "code",
   "execution_count": 1,
   "metadata": {},
   "outputs": [],
   "source": [
    "from ga import *\n",
    "from random import randint"
   ]
  },
  {
   "cell_type": "markdown",
   "metadata": {},
   "source": [
    "Then we define our own class using `GABase` as the parent class. Since we don't have an additional parameters, we simply call the `__init__` method from the super class. However, we are going to use a binary representation here and therefore we need to override the `decode` method. Then we must override the five abstract methods so that we know how to solve the specific problem. A typical single-point crossover is implemented here."
   ]
  },
  {
   "cell_type": "code",
   "execution_count": 6,
   "metadata": {},
   "outputs": [],
   "source": [
    "class GABin(GABase):\n",
    "    def __init__(self, params):\n",
    "        super().__init__(params)\n",
    "\n",
    "    def decode(self, s):\n",
    "        def _decode(s):\n",
    "            num = 0\n",
    "            n = len(s)\n",
    "            for i in range(n):\n",
    "                c = s[n-i-1]\n",
    "                num += int(c) * 2 ** i\n",
    "            return num\n",
    "        return _decode(s[:3]), _decode(s[3:6]), _decode(s[6:])\n",
    "\n",
    "    def obj(self, x):\n",
    "        return x[0] ** 2 - x[1] - x[2] + 1\n",
    "\n",
    "    def obj2fitness(self):\n",
    "        low = self.worst()[0]\n",
    "        minimal = (self.best()[0] - low) * 0.1\n",
    "        fitnesses = [val - low + minimal for val in self.objs]\n",
    "        return fitnesses\n",
    "\n",
    "    def initialization(self):\n",
    "        self.population = []\n",
    "        for i in range(self.params.popsize):\n",
    "            sol = ''.join(['1' if flip(0.5) else '0' for i in range(9)])\n",
    "            self.population.append(sol)\n",
    "        self.evaluation()\n",
    "\n",
    "    def crossover(self, s1, s2):\n",
    "        if not flip(self.params.pcrossover):\n",
    "            return [s1, s2]\n",
    "        n = len(s1)\n",
    "        x = randint(0, n-1)\n",
    "        s1x = s1[:x] + s2[x:]\n",
    "        s2x = s2[:x] + s1[x:]\n",
    "        return [s1x, s2x]\n",
    "\n",
    "    def mutation(self, s):\n",
    "        mutated = ''\n",
    "        mutate = lambda i: '1' if i=='0' else '0'\n",
    "        for c in s:\n",
    "            if flip(self.params.pmutation):\n",
    "                mutated += mutate(c)\n",
    "            else:\n",
    "                mutated += c\n",
    "        return mutated\n"
   ]
  },
  {
   "cell_type": "markdown",
   "metadata": {},
   "source": [
    "The new GA class is ready to use. We need to create a `Parameter` object and then create a `GA` object."
   ]
  },
  {
   "cell_type": "code",
   "execution_count": 8,
   "metadata": {},
   "outputs": [
    {
     "name": "stdout",
     "output_type": "stream",
     "text": [
      "(49, 33.7)\n",
      "[50, 49, 50, 50, 50, 50, 49, 48, 50, 50]\n"
     ]
    }
   ],
   "source": [
    "params = Parameters(\n",
    "    popsize = 10,\n",
    "    numgen = 10,\n",
    "    pcrossover = 0.9,\n",
    "    pmutation = 0.1,\n",
    "    elitism = True)\n",
    "    \n",
    "myga = GABin(params)\n",
    "res = myga.run()\n",
    "print(res)\n",
    "\n",
    "print([myga.run()[0] for _ in range(10)])\n"
   ]
  },
  {
   "cell_type": "markdown",
   "metadata": {},
   "source": [
    "## Solving the p-median problem\n",
    "\n",
    "Now we demonstrate how to implement a GA for the p-median problem where different operations must be developed and addition parameters are needed.\n",
    "\n",
    "The following code example is from [ga_base_pmed.py](ga_base_pmed.py)."
   ]
  },
  {
   "cell_type": "code",
   "execution_count": 5,
   "metadata": {},
   "outputs": [],
   "source": [
    "from ga import *\n",
    "from random import randint, sample"
   ]
  },
  {
   "cell_type": "markdown",
   "metadata": {},
   "source": [
    "The following is a new class that is derived from the parent class of `GABase`. Here, the `__init__` method includes additional code to make sure the data needed for the p-median is passed to the class. More specific, we use a dictionary (`owndata`) to store each of the required data items (`n`, `distmatrix`, and `p`). More of this dictionary can be found below.\n",
    "\n",
    "We then override the abstract methods using the code described in another tutorial for [GA introduction](genetic%20algorithms.ipynb)."
   ]
  },
  {
   "cell_type": "code",
   "execution_count": 9,
   "metadata": {},
   "outputs": [],
   "source": [
    "class GAPMed(GABase):\n",
    "    def __init__(self, params, owndata):\n",
    "        super().__init__(params)\n",
    "        self.n = owndata['n']\n",
    "        self.distmatrix = owndata['distmatrix']\n",
    "        self.p = owndata['p']\n",
    "\n",
    "    def obj(self, s):\n",
    "        n = len(self.distmatrix)\n",
    "        d_total = 0\n",
    "        for i in range(self.n):\n",
    "            d_min = float('inf')\n",
    "            for j in s:\n",
    "                if self.distmatrix[i][j] < d_min:\n",
    "                    d_min = self.distmatrix[i][j]\n",
    "            d_total += d_min\n",
    "        return d_total\n",
    "\n",
    "    def obj2fitness(self):\n",
    "        return [1/val for val in self.objs]\n",
    "\n",
    "    def initialization(self):\n",
    "        self.population = []\n",
    "        for i in range(self.params.popsize):\n",
    "            sol = sample(range(self.n), self.p)\n",
    "            self.population.append(sol)\n",
    "        self.evaluation()\n",
    "\n",
    "    def crossover(self, s1, s2):\n",
    "        if not flip(self.params.pcrossover):\n",
    "            return [s1]\n",
    "        child = list(set(s1 + s2))\n",
    "        while len(child) > self.p:\n",
    "            d = float('inf')\n",
    "            to_remove = -1\n",
    "            for i in child:\n",
    "                c1 = [j for j in child if j != i]\n",
    "                d1 = self.obj(c1)\n",
    "                if d1 < d:\n",
    "                    d = d1\n",
    "                    to_remove = i\n",
    "            child = [j for j in child if j != to_remove]\n",
    "        return [child]\n",
    "\n",
    "    def mutation(self, s):\n",
    "        for i in range(len(s)):\n",
    "            if not flip(self.params.pmutation):\n",
    "                continue\n",
    "            while True:\n",
    "                j = randint(0, self.n-1)\n",
    "                if not j in s:\n",
    "                    s[i] = j\n",
    "                    break\n",
    "        return s\n"
   ]
  },
  {
   "cell_type": "markdown",
   "metadata": {},
   "source": [
    "The following is the data required for the p-median problem."
   ]
  },
  {
   "cell_type": "code",
   "execution_count": 10,
   "metadata": {},
   "outputs": [],
   "source": [
    "owndata = {\n",
    "    'n': 8,\n",
    "    'distmatrix': [\n",
    "        [0, 3, 13, 5, 12, 16, 17, 20],\n",
    "        [3, 0, 10, 8, 9, 13, 14, 23],\n",
    "        [13, 10, 0, 8, 9, 3, 14, 15],\n",
    "        [5, 8, 8, 0, 17, 11, 22, 15],\n",
    "        [12, 9, 9, 17, 0, 6, 5, 16],\n",
    "        [16, 13, 3, 11, 6, 0, 11, 12],\n",
    "        [17, 14, 14, 22, 5, 11, 0, 11],\n",
    "        [20, 23, 15, 15, 16, 12, 11, 0]],\n",
    "    'p': 2\n",
    "}\n"
   ]
  },
  {
   "cell_type": "markdown",
   "metadata": {},
   "source": [
    "And we need to specify the GA parameters:"
   ]
  },
  {
   "cell_type": "code",
   "execution_count": 11,
   "metadata": {},
   "outputs": [],
   "source": [
    "params = Parameters(\n",
    "    popsize = 4,\n",
    "    numgen = 10,\n",
    "    pcrossover = 0.9,\n",
    "    pmutation = 0.1,\n",
    "    elitism = False,\n",
    "    minmax = 'min')\n"
   ]
  },
  {
   "cell_type": "markdown",
   "metadata": {},
   "source": [
    "Now we can create a new object of the `GAPMed` class and run it. The optimal solution to this specific problem has a total distance of 40."
   ]
  },
  {
   "cell_type": "code",
   "execution_count": 16,
   "metadata": {},
   "outputs": [
    {
     "name": "stdout",
     "output_type": "stream",
     "text": [
      "40\n"
     ]
    }
   ],
   "source": [
    "myga = GAPMed(params, owndata)\n",
    "res = myga.run()\n",
    "print(res[0])"
   ]
  },
  {
   "cell_type": "markdown",
   "metadata": {},
   "source": [
    "We can further test the GA performance using various parameter settings. Here is a test on the mutation probability:"
   ]
  },
  {
   "cell_type": "code",
   "execution_count": 14,
   "metadata": {},
   "outputs": [
    {
     "name": "stdout",
     "output_type": "stream",
     "text": [
      "mutation        obj\n",
      "              0 31\n",
      "            0.1 69\n",
      "            0.2 82\n",
      "            0.3 89\n",
      "            0.4 87\n",
      "            0.5 91\n",
      "            0.6 88\n",
      "            0.7 87\n",
      "            0.8 80\n",
      "            0.9 81\n",
      "              1 75\n"
     ]
    }
   ],
   "source": [
    "pmutate = [0, 0.1, 0.2, 0.3, 0.4, 0.5, 0.6, 0.7, 0.8, 0.9, 1]\n",
    "paramx = [Parameters(4, 10, 0.9, pm, True, 'min') for pm in pmutate]\n",
    "\n",
    "def multirun(prog, n, best):\n",
    "    all_best = []\n",
    "    for _ in range(n):\n",
    "        res = prog.run()\n",
    "        all_best.append(res[0])\n",
    "    return sum([1 if res==best else 0 for res in all_best])\n",
    "\n",
    "res = [multirun(myga, 100, 40) for myga in [GAPMed(par, owndata) for par in paramx]]\n",
    "\n",
    "print('{:15} {}'.format('mutation', 'obj'))\n",
    "for i in range(len(res)):\n",
    "    print('{:15} {}'.format(pmutate[i], res[i]))\n"
   ]
  }
 ],
 "metadata": {
  "kernelspec": {
   "display_name": "Python 3",
   "language": "python",
   "name": "python3"
  },
  "language_info": {
   "codemirror_mode": {
    "name": "ipython",
    "version": 3
   },
   "file_extension": ".py",
   "mimetype": "text/x-python",
   "name": "python",
   "nbconvert_exporter": "python",
   "pygments_lexer": "ipython3",
   "version": "3.7.2"
  }
 },
 "nbformat": 4,
 "nbformat_minor": 2
}
