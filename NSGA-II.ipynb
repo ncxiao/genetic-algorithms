{
 "cells": [
  {
   "cell_type": "markdown",
   "id": "11c182d8-300a-4b35-a853-b24260b6c14a",
   "metadata": {},
   "source": [
    "# Fast Elite Non-dominated Sorting Genetic Algorithm (NSGA-II)\n",
    "\n",
    "We implement the NSGA-II here using pure Python, for the purpose of demonstrate the implementation and the procedure.\n"
   ]
  },
  {
   "cell_type": "code",
   "execution_count": 1,
   "id": "6e410391-b308-4bd9-9e5c-a4a223689be6",
   "metadata": {},
   "outputs": [],
   "source": [
    "from math import exp, sqrt\n",
    "from random import random, randint, sample, uniform\n",
    "import functools\n",
    "import matplotlib.pyplot as plt"
   ]
  },
  {
   "cell_type": "markdown",
   "id": "25852e17-4419-4869-9267-a27aca1c1b60",
   "metadata": {},
   "source": [
    "## Representation: define a solution class\n",
    "\n",
    "We first define a class for each individual solution called `solution`. We use the binary representation here and it is necessary to specify the number of variables (`numvar`) and the length (in bits) of each variable (l). If the named variable `chrom` is None (default), the code will randomly generate the bits as the initial solution; otherwise, we will use whatever is passed by the user to set up the chromosome. The users should also set the bounds of each variable. The decoder and evaluator will be needed if the object of this class needs to be functional.\n",
    "\n",
    "The member called `deltas` is used to decode a binary string. We will discuss this later when we talk about decoders.\n",
    "\n",
    "We override a couple of crucial methods for multiobjective optimization by defining how solutions can be compared. These are in the methods of `__lt__` and `__gt__`. When we assume minimization, a solution p is better than q if p has at least one objective function value smaller than q's and all other objective function values are not greater than q's."
   ]
  },
  {
   "cell_type": "code",
   "execution_count": 2,
   "id": "ef8e9303-5288-4d7e-bc42-165d99c09cc0",
   "metadata": {},
   "outputs": [],
   "source": [
    "class solution():\n",
    "    def __init__(self, numvar, l, chrom=None, bounds=None, decoder=None, evaluator=None):\n",
    "        '''\n",
    "        numvar - number of variables\n",
    "        l - length (in bits) of each variable\n",
    "        bounds - [ [lo, hi], [lo, hi], [lo, hi]...], length is n\n",
    "        '''\n",
    "        self.n = 0 # domination counter, the # of solutions that dominate this one\n",
    "        self.distance = 0 \n",
    "        self.fitness = 0\n",
    "        self.numvar = numvar \n",
    "        self.l = l\n",
    "        if not chrom:\n",
    "            self.chromosome = ''.join(['1' if flip(0.5) else '0' for i in range(numvar*l)])\n",
    "        else:\n",
    "            self.chromosome = chrom\n",
    "        if len(bounds) != numvar:\n",
    "            raise Exception('Bounds must have the same length as n')\n",
    "        if len(self.chromosome) != numvar*l:\n",
    "            raise Exception('Lengh of chromosome error')\n",
    "        self.decoder = decoder\n",
    "        self.evaluator = evaluator\n",
    "        self.obj = []\n",
    "        self.bounds = bounds\n",
    "        self.deltas = [] # used in decode to convert binary \n",
    "        for b in bounds:\n",
    "            d = (b[1]-b[0]) / (2**l-1)\n",
    "            self.deltas.append(d) # store delta\n",
    "        # self.obj = evaluator(decoder(self.chromosome))\n",
    "        \n",
    "    def decode(self):\n",
    "        if not self.evaluator:\n",
    "            raise Exception('Evaluator not specified')\n",
    "        return self.decoder(self.chromosome, self.numvar, self.l, self.bounds, self.deltas)\n",
    "        \n",
    "    def evaluate(self):\n",
    "        if not self.evaluator:\n",
    "            raise Exception('Evaluator not specified')\n",
    "        self.obj = self.evaluator(self.decode())\n",
    "    \n",
    "    def __lt__(self, other): # return true if there is at least one < and others <= or <\n",
    "        num_proper_smaller_than = 0\n",
    "        for i in range(len(self.obj)):\n",
    "            if self.obj[i] > other.obj[i]:\n",
    "                return False\n",
    "            if self.obj[i] < other.obj[i]:\n",
    "                num_proper_smaller_than += 1\n",
    "        return num_proper_smaller_than > 0\n",
    "\n",
    "    def __gt__(self, other):\n",
    "        num_proper_greater_than = 0\n",
    "        for i in range(len(self.obj)):\n",
    "            if self.obj[i] < other.obj[i]:\n",
    "                return False\n",
    "            if self.obj[i] > other.obj[i]:\n",
    "                num_proper_greater_than += 1\n",
    "        return num_proper_greater_than > 0\n",
    "    \n",
    "    def dominate(self, other, direction='minimize'): # return true if this object dominates the other\n",
    "        if direction=='minimize':\n",
    "            return self < other\n",
    "        else:\n",
    "            return self > other"
   ]
  },
  {
   "cell_type": "markdown",
   "id": "3d79fe34-35e3-4228-9718-1669762ccde3",
   "metadata": {},
   "source": [
    "## Fast non-dominated sort (key algorithm)\n",
    "\n",
    "The following is the key part of the entire algorithm. Here, a population of solutions (`P`) will be ranked due to the solutions non-domination within the population. The function returns a dictionary `F` where the key are integers, each indicating the front where ranked 1 means a solution dominates all other solutions ranked above 1. After the function is run, each solution will have assigned a value of its `rank` member (1 being the highest/best) and an `n` member indicating the number of solutions that dominates it. The values in the returned dictionary are solution objects. Comments in the function without a dot are from the original paper. The values in F are integers (indexes) and the converted to objects at the end of the function."
   ]
  },
  {
   "cell_type": "code",
   "execution_count": 3,
   "id": "2935b3db-56a0-433b-89a4-0a68a5739a7e",
   "metadata": {
    "tags": []
   },
   "outputs": [],
   "source": [
    "def fast_non_domnated_sort(P): # P is a list of individual objects\n",
    "    F = {1:[]}                        #. stores index in R (P and Q combined)\n",
    "    S = {}\n",
    "    for i in range(len(P)):\n",
    "        p = P[i]\n",
    "        S[i] = []\n",
    "        p.n = 0\n",
    "        for j in range(len(P)):\n",
    "            q = P[j]\n",
    "            if p < q:                 # If p dominates q (#. assuming minimization)\n",
    "                S[i].append(j)        # Add q to the set of solutions dominated by p\n",
    "            elif q < p:\n",
    "                p.n += 1              # Increament the domination counter of p\n",
    "        if p.n == 0:                  # p belongs to the first front\n",
    "            p.rank = 1\n",
    "            F[1].append(i)\n",
    "    i = 1                             # Initialize the front counter\n",
    "    while F[i] != []:\n",
    "        Q = []                        # Used to store the members of the next front\n",
    "        for pi in F[i]:\n",
    "            for qi in S[pi]:\n",
    "                P[qi].n -= 1\n",
    "                if P[qi].n == 0:      # q belongs to the next front\n",
    "                    P[qi].rank = i+1\n",
    "                    Q.append(qi)\n",
    "        i += 1\n",
    "        F[i] = Q\n",
    "\n",
    "    F1 = {}\n",
    "    for f in F:\n",
    "        F1[f] = [P[i] for i in F[f]]  #. change indexes to objects for return\n",
    "    return F1\n"
   ]
  },
  {
   "cell_type": "markdown",
   "id": "29addc89-9f45-456e-9e59-8aa22e0acfae",
   "metadata": {},
   "source": [
    "The following function computes the distance of each solution in the same rank. This is critical in differentiating the solutions with the same rank because in NSGA-II, the fitness value of each solution is simply its rank. There will be a lot solutions with the same fitness/rank and therefore it is necessary to further set them apart, especially when (1) we want to select between two solutions and (2) when we decide which solutions should be included in the next generation when only a subset of those of the same rank can be selected."
   ]
  },
  {
   "cell_type": "code",
   "execution_count": 4,
   "id": "575a9471-0051-495a-8a67-bd4c2a8e434d",
   "metadata": {
    "tags": []
   },
   "outputs": [],
   "source": [
    "def crowding_distance_assignment(I):\n",
    "    # I is a list of nondominated solutions\n",
    "    l = len(I)\n",
    "    if l == 0:\n",
    "        return\n",
    "    for m in range(len(I[0].obj)):\n",
    "        # sort by obj m\n",
    "        I.sort(key=lambda x: x.obj[m])\n",
    "        I[0].distance = I[-1].distance = float('inf')\n",
    "        fm_min = I[0].obj[m]\n",
    "        fm_max = I[-1].obj[m]\n",
    "        if fm_min == fm_max:\n",
    "            for i in range(1, l-1):\n",
    "                I[i].distance = 0\n",
    "        else:\n",
    "            for i in range(1, l-1):\n",
    "                I[i].distance += (I[i+1].obj[m] - I[i-1].obj[m]) / (fm_max - fm_min)"
   ]
  },
  {
   "cell_type": "markdown",
   "id": "97c120b4-ff91-4a49-bbb3-5dd0fc2e7993",
   "metadata": {},
   "source": [
    "The following function decides between two solutions which one is considered to be better. The benefit of the above function (i.e., calculating the distance of each solution in the objective space) is reflected here."
   ]
  },
  {
   "cell_type": "code",
   "execution_count": 5,
   "id": "8c0226f4-59a0-4af1-bff4-e59b706895a6",
   "metadata": {},
   "outputs": [],
   "source": [
    "def crowded_comparison_operator(i, j):\n",
    "    # i and j are two individual objects\n",
    "    # i is BETTER than j if:\n",
    "    #     i_rank < j_rank \n",
    "    #     or \n",
    "    #     i_rank = j_rank and i_distance > j_distance\n",
    "    #\n",
    "    if i.rank < j.rank:\n",
    "        return 1\n",
    "    if i.rank == j.rank and i.distance > j.distance:\n",
    "        return 1\n",
    "    if i.rank == j.rank and i.distance == j.distance:\n",
    "        return 0\n",
    "    return -1"
   ]
  },
  {
   "cell_type": "markdown",
   "id": "04b128a6-4dfd-40f6-adbf-67f9ee9b07b1",
   "metadata": {},
   "source": [
    "## Functions for the genetic algorithms\n",
    "\n",
    "Here we implement some generic functions for the GA. We use a tournament selection here."
   ]
  },
  {
   "cell_type": "code",
   "execution_count": 6,
   "id": "ae3627c2-b6dc-4171-9948-3174e362fa62",
   "metadata": {
    "tags": []
   },
   "outputs": [],
   "source": [
    "def selection(population):\n",
    "    # tournament\n",
    "    # population is a list of individual objects\n",
    "    i, j = sample(range(len(population)), 2)\n",
    "    i, j = population[i], population[j]\n",
    "    comp = crowded_comparison_operator(i, j)\n",
    "    if comp > 0:\n",
    "        return i\n",
    "    elif comp < 0:\n",
    "        return j\n",
    "    else:\n",
    "        return i # i and j doesn't matter\n",
    "\n"
   ]
  },
  {
   "cell_type": "markdown",
   "id": "8368becb-a42e-489e-ae50-c83103b57b6b",
   "metadata": {},
   "source": [
    "A single point crossover method is used here. The mutation function uses a probability to decide whether a bit should be flipped."
   ]
  },
  {
   "cell_type": "code",
   "execution_count": 7,
   "id": "76ce61ca-53e8-48b0-b81d-1f1b1dc9a12b",
   "metadata": {
    "tags": []
   },
   "outputs": [],
   "source": [
    "def recombination(i, j, p):\n",
    "    c1 = i.chromosome\n",
    "    c2 = j.chromosome\n",
    "    if not flip(p):\n",
    "        return\n",
    "    point = randint(0, i.numvar*i.l-1)\n",
    "    c1 = i.chromosome[:point] + j.chromosome[point:]\n",
    "    c2 = j.chromosome[:point] + i.chromosome[point:]\n",
    "    i1 = solution(i.numvar, i.l, c1, i.bounds, i.decoder, i.evaluator)\n",
    "    j1 = solution(i.numvar, i.l, c2, i.bounds, i.decoder, i.evaluator)\n",
    "    return i1, j1\n",
    "\n",
    "def flip(prob):\n",
    "    if random() < prob:\n",
    "        return True\n",
    "    return False\n",
    "\n",
    "def mutation(i, p):\n",
    "    # reverse_chars = ['1', '0']\n",
    "    # chrom = ''.join([c if not flip(p) else reverse_chars[int(c)] for c in i.chromosome])\n",
    "    chrom = ''.join([c if not flip(p) else str(1-int(c)) for c in i.chromosome])\n",
    "    i.chromosome = chrom\n"
   ]
  },
  {
   "cell_type": "markdown",
   "id": "1b299e00-02c7-4e41-8b73-33aa3e1efd34",
   "metadata": {},
   "source": [
    "Finally, here is the procedure to generate a population."
   ]
  },
  {
   "cell_type": "code",
   "execution_count": 8,
   "id": "30107e1c-f9ae-4b21-a171-df8dcd331a73",
   "metadata": {
    "tags": []
   },
   "outputs": [],
   "source": [
    "def make_new_pop(P, crossover_prob, mutation_prob):\n",
    "    Q = []\n",
    "    while len(Q) < len(P):\n",
    "        i = selection(P)\n",
    "        j = selection(P)\n",
    "        recomb = recombination(i, j, crossover_prob)\n",
    "        if recomb: # not None\n",
    "            i1, j1 = recomb\n",
    "            mutation(i1, mutation_prob)\n",
    "            mutation(j1, mutation_prob)\n",
    "            i1.evaluate()\n",
    "            j1.evaluate()\n",
    "            Q.append(i1)\n",
    "            Q.append(j1)\n",
    "    return Q"
   ]
  },
  {
   "cell_type": "markdown",
   "id": "897902e2-41d0-4168-81ad-a7be9c91d3c6",
   "metadata": {},
   "source": [
    "## Main workflow\n",
    "\n",
    "<!-- \n",
    "Initially, a random parent population $P_0$ is created. The population is sorted based on the non-domination. Each solution is assigned a fitness equal to its non-domination level (1 is the best level). Thus, minimization of fitness is assumed. Binary tournament selection, recombination, and mutation operators are used to create a child population $Q_0$ of size $N$. From the first generation onward, the procedure is different. The elitism\n",
    "procedure for $t \\ge 1$ and for a particular generation is shown in the following:\n",
    "\n",
    "$R_t = P_t \\cup Q_t$  \n",
    "$F = \\text{fast-nondominated-sort}(R_t)$  \n",
    "$\\text{until } |P_{t+1}| < N$  \n",
    "&nbsp;&nbsp;&nbsp;&nbsp;&nbsp; $\\text{crowding-distance-assignment}(F_i)$  \n",
    "&nbsp;&nbsp;&nbsp;&nbsp;&nbsp; $P_{t+1} = P_{t+1} \\cup F_i$  \n",
    "$\\text{sort}(P_{t+1, \\ge n})$  \n",
    "$P_{t+1} = P_{t+1}[0:N]$  \n",
    "$Q_{t+1} = \\text{make-new-pop}(P_{t+1})$\n",
    "\n",
    "First, a combined population $R_t = P_t \\cup Q_t$ is formed. The population $R_t$ will be of size $2N$. Then, the population $R_t$ is sorted according to non-domination. The new parent population $P_{t+1}$ is formed by adding solutions from the first front till the size exceeds $N$. Thereafter, the solutions of the last accepted front are sorted according to $\\ge_n$ and the first $N$ points are picked. This is how we construct the population $P_{t+1}$ of size $N$. This population of size $N$ is now used for selection, crossover and mutation to create a new population $Q_{t+1}$ of size $N$. It is important to note that we use a binary tournament selection operator but the selection criterion is now based on the niched comparison operator $\\ge_n$.\n",
    " -->"
   ]
  },
  {
   "cell_type": "code",
   "execution_count": 9,
   "id": "09205275-2771-44c6-a3f4-256212007c90",
   "metadata": {},
   "outputs": [],
   "source": [
    "def nsga2_x(N, T, crossover_prob, mutation_prob, numvar, varlen, bounds, decoder, evaluator):\n",
    "    '''\n",
    "    N - population size\n",
    "    T - number of generations\n",
    "    bounds\n",
    "    decoder\n",
    "    evaluator\n",
    "    '''\n",
    "    R = {}\n",
    "    P = {}\n",
    "    Q = {}\n",
    "\n",
    "    # created P0 randomly\n",
    "    t = 0\n",
    "    P[t] = [solution(numvar, varlen, bounds=bounds, decoder=decoder, evaluator=evaluator) for _ in range(N)] # evaluate by default?\n",
    "    for i in P[t]:\n",
    "        i.evaluate()\n",
    "\n",
    "    fast_non_domnated_sort(P[t]) # need the fitness/rank for tournament selection\n",
    "\n",
    "    Q[t] = make_new_pop(P[t], crossover_prob, mutation_prob)\n",
    "\n",
    "    # main loop\n",
    "    while t <= T:\n",
    "        R[t] = P[t] + Q[t]\n",
    "        F = fast_non_domnated_sort(R[t])\n",
    "        P[t+1] = []\n",
    "        i = 1\n",
    "        while len(P[t+1])+len(F[i]) <= N:\n",
    "            crowding_distance_assignment(F[i])\n",
    "            P[t+1] = P[t+1] + F[i]\n",
    "            i += 1\n",
    "        # i is not the front that hasn't been included\n",
    "        # will need some solutions from it if the previous loop hasn't got N solutions\n",
    "        # F[i] is not assigned fitness/rank yet (overlooked in original paper)\n",
    "        \n",
    "        crowding_distance_assignment(F[i]) # NOTE: this step is missed in the original paper!\n",
    "        F[i].sort(key=functools.cmp_to_key(crowded_comparison_operator), reverse=True) \n",
    "        P[t+1] = P[t+1] + F[i][:N-len(P[t+1])]\n",
    "        Q[t+1] = make_new_pop(P[t+1], crossover_prob, mutation_prob)\n",
    "        t += 1\n",
    "    return P"
   ]
  },
  {
   "cell_type": "markdown",
   "id": "4f4c4216-96bd-4ff4-8266-1440eebc8743",
   "metadata": {},
   "source": [
    "## Doodle\n",
    "\n",
    "We now make some random experiments to try out some of the functions above. To start with, it is important to have a decoder and an evaluator. We are going to use a very simple problem with 1 variable and two objectives. This is the problem called SCH in the original paper by Deb et al. The two objective functions are defined as:\n",
    "\n",
    "$f_1(x) = x^2$  \n",
    "$f_2(x) = (x-2)^2$\n",
    "\n",
    "where $x \\in [-10^3, 10^3]$.\n",
    "\n",
    "### Decoder\n",
    "\n",
    "Suppose we use a binary string to represent the variable. Giving a binary string $x'$, we can convert that to a decimal value, which will be ranging from 0 to $2^l$ where $l$ is the length of the binary string. We then need to scale this decimal value using the bounds of the variable:\n",
    "\n",
    "$x = x_{\\text{min}} + \\text{decimal}(x') (x_{\\text{max}} - x_{\\text{min}}) / (2^l - 1)$\n",
    "\n",
    "where $x_{\\text{min}}$ and $x_{\\text{min}}$ are the lower and upper bounds of the variable, respectively, $\\text{decimal}$ is a function that converts a binary string to a decimal, and $l$ is the length of the binary string. We calculate the constant part of the second term as a valuate of `deltas` in the `__init__` method of the solution class.\n",
    "\n",
    "Our decoder function is going to look like this:"
   ]
  },
  {
   "cell_type": "code",
   "execution_count": 10,
   "id": "b8bf768f-12ac-4b34-a040-f110eb736d8f",
   "metadata": {
    "tags": []
   },
   "outputs": [],
   "source": [
    "def decoder(chrom, numvar, l, bounds, deltas):\n",
    "    # for FON only for now: three vars, each ranging from -4 to 4, where n=3, and l=2\n",
    "    vars = []\n",
    "    for i in range(numvar):\n",
    "        var = bounds[i][0] + int(chrom[i*l:(i+1)*l], 2)*deltas[i]\n",
    "        vars.append(var)\n",
    "    return vars\n"
   ]
  },
  {
   "cell_type": "markdown",
   "id": "950c3f5f-b1e3-4faa-8efa-356635b76562",
   "metadata": {},
   "source": [
    "It should be noted that the above decoder is generic and can be applied to many problems, as long as the parameters of the function are specified correctly for the problem.\n",
    "\n",
    "### Evaluator\n",
    "\n",
    "The evaluator must be specifically defined for each problem. In our experiments here, we define it as follows:"
   ]
  },
  {
   "cell_type": "code",
   "execution_count": 11,
   "id": "b24dc89c-f67b-49d7-8236-d0ebdd59eb35",
   "metadata": {
    "tags": []
   },
   "outputs": [],
   "source": [
    "def evaluator(vars):\n",
    "    # need 1 variable\n",
    "    x = vars[0]\n",
    "    f1 = x**2\n",
    "    f2 = (x-2)**2\n",
    "    return [f1, f2]"
   ]
  },
  {
   "cell_type": "markdown",
   "id": "15e5a181-f755-4a61-8d1d-23dc1630eb16",
   "metadata": {},
   "source": [
    "### Some quick experiments\n",
    "\n",
    "Now, we define the following two parameters to specify that there is only 1 variable and the length of the binary is 10:"
   ]
  },
  {
   "cell_type": "code",
   "execution_count": 12,
   "id": "e733ce95-fffa-44ca-87fa-5bd820c57103",
   "metadata": {
    "tags": []
   },
   "outputs": [],
   "source": [
    "numvar = 1\n",
    "varlen = 10"
   ]
  },
  {
   "cell_type": "markdown",
   "id": "69c7cc6f-b6bb-46e9-9b63-c2aa61a5f2b4",
   "metadata": {},
   "source": [
    "We also specify the probability for crossover and mutation. For the mutation probability, we want in average each string has 1 bit being flipped:"
   ]
  },
  {
   "cell_type": "code",
   "execution_count": 13,
   "id": "8d31511a-3322-4820-a29d-58e808fce1dc",
   "metadata": {
    "tags": []
   },
   "outputs": [],
   "source": [
    "crossover_prob = 0.9\n",
    "mutation_prob = 1/numvar/varlen"
   ]
  },
  {
   "cell_type": "markdown",
   "id": "e4be9481-f5a1-4542-8f15-2f69f4982789",
   "metadata": {},
   "source": [
    "The last thing will be the bounds:"
   ]
  },
  {
   "cell_type": "code",
   "execution_count": 14,
   "id": "fa2b3e3e-223d-4c36-9e42-48de77b81a45",
   "metadata": {
    "tags": []
   },
   "outputs": [],
   "source": [
    "bounds = [[-10**3, 10**3]]"
   ]
  },
  {
   "cell_type": "markdown",
   "id": "4e202634-9b79-45ef-997b-b64479af63f5",
   "metadata": {},
   "source": [
    "With all the parameters set, the following is a quick way to create 2 objects of the solution class:"
   ]
  },
  {
   "cell_type": "code",
   "execution_count": 15,
   "id": "19301ad9-6538-457c-8ddb-737db246fa36",
   "metadata": {},
   "outputs": [],
   "source": [
    "i = solution(numvar, varlen, bounds=bounds, decoder=decoder, evaluator=evaluator)\n",
    "j = solution(numvar, varlen, bounds=bounds, decoder=decoder, evaluator=evaluator)"
   ]
  },
  {
   "cell_type": "code",
   "execution_count": 16,
   "id": "a099a366-9000-4e26-aba1-abc6b02a4078",
   "metadata": {
    "tags": []
   },
   "outputs": [
    {
     "name": "stdout",
     "output_type": "stream",
     "text": [
      "0111011111\n",
      "1010111000\n"
     ]
    }
   ],
   "source": [
    "print(i.chromosome)\n",
    "print(j.chromosome)"
   ]
  },
  {
   "cell_type": "markdown",
   "id": "04f9b7c0-829d-490c-8645-7611b365c08d",
   "metadata": {},
   "source": [
    "We can recombine them into two new ones:"
   ]
  },
  {
   "cell_type": "code",
   "execution_count": 17,
   "id": "6dfbd671-599b-4876-9e29-7507116eff8b",
   "metadata": {
    "tags": []
   },
   "outputs": [
    {
     "name": "stdout",
     "output_type": "stream",
     "text": [
      "0111111000\n",
      "1010011111\n"
     ]
    }
   ],
   "source": [
    "i1, j1 = recombination(i, j, crossover_prob)\n",
    "\n",
    "print(i1.chromosome)\n",
    "print(j1.chromosome)"
   ]
  },
  {
   "cell_type": "markdown",
   "id": "4ad74f6f-77ea-40f2-a329-a764df0de5e1",
   "metadata": {},
   "source": [
    "We can also check the results of mutation:"
   ]
  },
  {
   "cell_type": "code",
   "execution_count": 18,
   "id": "fa497549-5375-476d-848d-a6967ff867f6",
   "metadata": {
    "tags": []
   },
   "outputs": [
    {
     "name": "stdout",
     "output_type": "stream",
     "text": [
      "0111011111\n",
      "0111011111\n",
      "1010111000\n",
      "1011101000\n"
     ]
    }
   ],
   "source": [
    "print(i.chromosome)\n",
    "mutation(i, mutation_prob)\n",
    "print(i.chromosome)\n",
    "print(j.chromosome)\n",
    "mutation(j, mutation_prob)\n",
    "print(j.chromosome)"
   ]
  },
  {
   "cell_type": "code",
   "execution_count": 19,
   "id": "7d6f2f7a-c61f-41b4-b874-79fdb643f4a3",
   "metadata": {
    "tags": []
   },
   "outputs": [
    {
     "data": {
      "text/plain": [
       "('0110000010',\n",
       " [-245.35679374389053],\n",
       " [60199.95623628204, 61185.3834112576],\n",
       " [1.9550342130987293])"
      ]
     },
     "execution_count": 19,
     "metadata": {},
     "output_type": "execute_result"
    }
   ],
   "source": [
    "i = solution(numvar, varlen, bounds=bounds, decoder=decoder, evaluator=evaluator)\n",
    "i.evaluate()\n",
    "i.chromosome, i.decode(), i.obj, i.deltas"
   ]
  },
  {
   "cell_type": "markdown",
   "id": "3f9ad307-b7d3-4701-a992-43aa41e05601",
   "metadata": {},
   "source": [
    "The decode method in the class can be used separately:"
   ]
  },
  {
   "cell_type": "code",
   "execution_count": 20,
   "id": "ba79b2c3-3f8c-4ffd-a2a5-6b13ebfc26b2",
   "metadata": {
    "tags": []
   },
   "outputs": [
    {
     "data": {
      "text/plain": [
       "[-245.35679374389053]"
      ]
     },
     "execution_count": 20,
     "metadata": {},
     "output_type": "execute_result"
    }
   ],
   "source": [
    "i.decode()"
   ]
  },
  {
   "cell_type": "markdown",
   "id": "ec702e18-adda-430b-bbe5-4752407ee46e",
   "metadata": {},
   "source": [
    "We can manually run the first generation:"
   ]
  },
  {
   "cell_type": "code",
   "execution_count": 21,
   "id": "d0d9af17-a1db-41ee-bcca-bfa5c1c1a912",
   "metadata": {},
   "outputs": [],
   "source": [
    "N = 100 # population size\n",
    "t = 0\n",
    "R = {}\n",
    "P = {}\n",
    "Q = {}\n",
    "\n",
    "# created P0 randomly\n",
    "P[t] = [solution(numvar, varlen, bounds=bounds, decoder=decoder, evaluator=evaluator) for _ in range(N)]\n",
    "for i in P[t]:\n",
    "    i.evaluate()\n",
    "    \n",
    "fast_non_domnated_sort(P[t])\n",
    "\n",
    "Q[t] = make_new_pop(P[t], crossover_prob, mutation_prob)"
   ]
  },
  {
   "cell_type": "code",
   "execution_count": 22,
   "id": "c8e9e964-dd47-4c65-b1e3-7debd11cc26f",
   "metadata": {
    "tags": []
   },
   "outputs": [
    {
     "data": {
      "text/plain": [
       "<__main__.solution at 0x7fe27dce5c50>"
      ]
     },
     "execution_count": 22,
     "metadata": {},
     "output_type": "execute_result"
    }
   ],
   "source": [
    "selection(P[0])"
   ]
  },
  {
   "cell_type": "code",
   "execution_count": 23,
   "id": "cbf1b353-fcd9-4126-ad51-48ad8e89f2ed",
   "metadata": {
    "tags": []
   },
   "outputs": [
    {
     "data": {
      "text/plain": [
       "-1"
      ]
     },
     "execution_count": 23,
     "metadata": {},
     "output_type": "execute_result"
    }
   ],
   "source": [
    "i = P[0][0]\n",
    "j = P[0][15]\n",
    "crowded_comparison_operator(i, j)"
   ]
  },
  {
   "cell_type": "markdown",
   "id": "bd6fadf9-d343-49cb-88f8-8f6ea4b56217",
   "metadata": {},
   "source": [
    "This should help us understand why the above code yields its output:"
   ]
  },
  {
   "cell_type": "code",
   "execution_count": 24,
   "id": "2d4c82f3-a195-49ab-884b-bc354982b3aa",
   "metadata": {
    "tags": []
   },
   "outputs": [
    {
     "data": {
      "text/plain": [
       "([984420.8808356004, 980456.1613830101],\n",
       " [765411.1830632503, 761915.6718218036])"
      ]
     },
     "execution_count": 24,
     "metadata": {},
     "output_type": "execute_result"
    }
   ],
   "source": [
    "i.obj, j.obj"
   ]
  },
  {
   "cell_type": "markdown",
   "id": "949025e4-116e-4b55-a923-0104f8294b81",
   "metadata": {},
   "source": [
    "We can run the following several times to see how the population evaluates:"
   ]
  },
  {
   "cell_type": "code",
   "execution_count": 25,
   "id": "053e9303-ebd6-47db-b8de-6d269a61626a",
   "metadata": {
    "tags": []
   },
   "outputs": [],
   "source": [
    "# main loop\n",
    "\n",
    "R[t] = P[t] + Q[t]\n",
    "F = fast_non_domnated_sort(R[t])\n",
    "P[t+1] = []\n",
    "i = 1\n",
    "while len(P[t+1])+len(F[i]) <= N:\n",
    "    crowding_distance_assignment(F[i])\n",
    "    P[t+1] = P[t+1] + F[i]\n",
    "    i += 1\n",
    "\n",
    "# i is the index of the last fron to be included\n",
    "# only need to sort the last front included in P[t+1] since we may have more than needed in F[i]\n",
    "# sort F[i] , <n, \n",
    "F[i].sort(key=functools.cmp_to_key(crowded_comparison_operator), reverse=True) # comp func needs access to R and t\n",
    "\n",
    "P[t+1] = P[t+1] + F[i][1:N-len(P[t+1])+1]\n",
    "Q[t+1] = make_new_pop(P[t+1], crossover_prob, mutation_prob)\n",
    "\n",
    "t += 1\n"
   ]
  },
  {
   "cell_type": "code",
   "execution_count": 26,
   "id": "8598bebd-7740-41c1-a467-4cb8c447c7cf",
   "metadata": {
    "tags": []
   },
   "outputs": [
    {
     "data": {
      "text/plain": [
       "(1, 100)"
      ]
     },
     "execution_count": 26,
     "metadata": {},
     "output_type": "execute_result"
    }
   ],
   "source": [
    "t, len(P[t])"
   ]
  },
  {
   "cell_type": "code",
   "execution_count": 27,
   "id": "7a2794d7-b875-4426-ba7d-b210ad0703d3",
   "metadata": {
    "tags": []
   },
   "outputs": [
    {
     "data": {
      "text/plain": [
       "2"
      ]
     },
     "execution_count": 27,
     "metadata": {},
     "output_type": "execute_result"
    }
   ],
   "source": [
    "len([p.rank for p in P[t] if p.rank==1])"
   ]
  },
  {
   "cell_type": "markdown",
   "id": "0db64bf6-b186-42e0-8f22-dbf2122c78fc",
   "metadata": {},
   "source": [
    "## Case study\n",
    "\n",
    "We test the workflow presented above using a few examples. These are from the original paper by Deb et al.\n",
    "\n",
    "\n",
    "### FON\n",
    "\n",
    "$f_1(x) = 1 - \\exp(-\\sum_{i=1}^3(x_i - \\frac{1}{\\sqrt{3}})^2)$\n",
    "\n",
    "$f_2(x) = 1 - \\exp(-\\sum_{i=1}^3(x_i + \\frac{1}{\\sqrt{3}})^2)$\n",
    "\n",
    "where $x_i \\in [-4, 4], i \\in \\{1, 2, 3\\}$"
   ]
  },
  {
   "cell_type": "code",
   "execution_count": 28,
   "id": "e6f72233-84c7-47b6-b01a-4c0a69ae290f",
   "metadata": {
    "tags": []
   },
   "outputs": [],
   "source": [
    "# To decode, we use var = lo + decimal(chrom) * (hi - lo) / (2^l - 1), \n",
    "# where lo, hi, and l are the lower bound, upper bound, and length of binary string\n",
    "# Because (hi-lo)/(2^l-1) is a constant, we get it in init, and name it as delta\n",
    "#\n",
    "def decoder(chrom, numvar, l, bounds, deltas):\n",
    "    # for FON only for now: three vars, each ranging from -4 to 4, where n=3, and l=2\n",
    "    vars = []\n",
    "    for i in range(numvar):\n",
    "        var = bounds[i][0] + int(chrom[i*l:(i+1)*l], 2)*deltas[i]\n",
    "        vars.append(var)\n",
    "    return vars\n",
    "\n",
    "\n",
    "# calculate objective functions values only\n",
    "def evaluator(vars):\n",
    "    # need three variables\n",
    "    s1 = s2 = 0\n",
    "    sqrt_3 = sqrt(3)\n",
    "    for i in range(len(vars)):\n",
    "        s1 += (vars[i] - 1/sqrt_3)**2\n",
    "        s2 += (vars[i] + 1/sqrt_3)**2\n",
    "    f1 = 1 - exp(-s1)\n",
    "    f2 = 1 - exp(-s2)\n",
    "    return [f1, f2]"
   ]
  },
  {
   "cell_type": "code",
   "execution_count": 29,
   "id": "ab711b3e-cb11-4913-bf0c-47cf39382a38",
   "metadata": {
    "tags": []
   },
   "outputs": [],
   "source": [
    "N = 100\n",
    "T = 100\n",
    "bounds = [[-4, 4] for _ in range(3)]\n",
    "numvar = 3\n",
    "varlen = 10\n",
    "\n",
    "crossover_prob = 0.9\n",
    "mutation_prob = 0.1/numvar/varlen\n",
    "\n",
    "P = nsga2_x(N, T, crossover_prob, mutation_prob, numvar, varlen, bounds, decoder, evaluator)"
   ]
  },
  {
   "cell_type": "code",
   "execution_count": 30,
   "id": "3cfd6c6b-dd1d-4bb6-be1a-929b7d776452",
   "metadata": {
    "tags": []
   },
   "outputs": [
    {
     "data": {
      "image/png": "[encoded data removed]",
      "text/plain": [
       "<Figure size 640x480 with 1 Axes>"
      ]
     },
     "metadata": {},
     "output_type": "display_data"
    }
   ],
   "source": [
    "# generate a lot of random solutions and plot them\n",
    "P['10K random'] = [solution(numvar, varlen, bounds=bounds, decoder=decoder, evaluator=evaluator) for _ in range(10000)]\n",
    "for i in P['10K random']:\n",
    "    i.evaluate()\n",
    "\n",
    "toplot = ['10K random', 0, T//30, 2*T//30, T]\n",
    "for i in toplot:\n",
    "    x1 = [(p.obj[0], p.obj[1]) for p in P[i]]\n",
    "    x1.sort()\n",
    "    marker = 'o'\n",
    "    if i == T:\n",
    "        marker = 'o-'\n",
    "    plt.plot([val[0] for val in x1], [val[1] for val in x1], marker, label=f'generation {i}')\n",
    "\n",
    "plt.legend(loc='lower left')\n",
    "plt.show()"
   ]
  },
  {
   "cell_type": "markdown",
   "id": "2c46eab5-e2fb-4391-892c-cdc3cb8d5be8",
   "metadata": {},
   "source": [
    "### POL\n",
    "\n",
    "The two objective functions are:\n",
    "\n",
    "$f_1(x) = 1 + (A_1 - B_1)^2 + (A_2 - B_2)^2$  \n",
    "$f_2(x) = (x_1+3)^2 + (x_2+1)^2$\n",
    "\n",
    "where $x_1$ and $x_2$ are the two decision variables with a range of $[-\\pi, \\pi]$. Other coefficients are defined below:\n",
    "\n",
    "$A_1 = 0.5 \\sin 1 - 2 \\cos 1 + \\sin 2 - 1.5 \\cos 2$  \n",
    "$A_2 = 1.5 \\sin 1 - \\cos 1 + 2 \\sin 2 - 0.5 \\cos 2$  \n",
    "$B_1 = 0.5 \\sin x_1 - 2 \\cos x_1 + \\sin x_2 - 1.5 \\cos x_2$  \n",
    "$B_2 = 1.5 \\sin x_1 - \\cos x_1 + 2 \\sin x_2 - 0.5 \\cos x_2$\n"
   ]
  },
  {
   "cell_type": "code",
   "execution_count": 38,
   "id": "53793ad2-703b-451f-be1a-d2c42c5b3108",
   "metadata": {
    "tags": []
   },
   "outputs": [],
   "source": [
    "from math import sin, cos\n",
    "\n",
    "# calculate objective functions values only\n",
    "def evaluator(vars):\n",
    "    # need 2 variables\n",
    "    x1, x2 = vars\n",
    "    A1 = 0.5*sin(1) - 2*cos(1) + sin(2) - 1.5*cos(2)\n",
    "    A2 = 1.5*sin(1) - cos(1) + 2*sin(2) - 0.5*cos(2)\n",
    "    B1 = 0.5*sin(x1) - 2*cos(x1) + sin(x2) - 1.5*cos(x2)\n",
    "    B2 = 1.5*sin(x1) - cos(x1) + 2*sin(x2) - 0.5*cos(x2)\n",
    "    f1 = 1 + (A1-B1)**2 + (A2-B2)**2\n",
    "    f2 = (x1+3)**2 + (x2+1)**2\n",
    "    return [f1, f2]"
   ]
  },
  {
   "cell_type": "code",
   "execution_count": 41,
   "id": "64ade267-09c3-4f8d-a1cd-d94fb05ea39d",
   "metadata": {
    "tags": []
   },
   "outputs": [],
   "source": [
    "from math import pi\n",
    "\n",
    "N = 100\n",
    "T = 100\n",
    "bounds = [[-pi,pi], [-pi,pi]]\n",
    "numvar = 2\n",
    "varlen = 10\n",
    "\n",
    "crossover_prob = 0.9\n",
    "mutation_prob = 1/numvar/varlen\n",
    "\n",
    "P = nsga2_x(N, T, crossover_prob, mutation_prob, numvar, varlen, bounds, decoder, evaluator)"
   ]
  },
  {
   "cell_type": "code",
   "execution_count": 42,
   "id": "eb7e1c51-d17b-46cb-b400-be103d58f639",
   "metadata": {
    "tags": []
   },
   "outputs": [
    {
     "data": {
      "image/png": "[encoded data removed]",
      "text/plain": [
       "<Figure size 640x480 with 1 Axes>"
      ]
     },
     "metadata": {},
     "output_type": "display_data"
    }
   ],
   "source": [
    "P['10K random'] = [solution(numvar, varlen, bounds=bounds, decoder=decoder, evaluator=evaluator) for _ in range(10000)]\n",
    "for i in P['10K random']:\n",
    "    i.evaluate()\n",
    "\n",
    "toplot = ['10K random', 0, T//30, 2*T//30, T]\n",
    "for i in toplot:\n",
    "    x1 = [(p.obj[0], p.obj[1]) for p in P[i]]\n",
    "    x1.sort()\n",
    "    marker = 'o'\n",
    "    if i == toplot[-1]:\n",
    "        marker = 'o-'\n",
    "    plt.plot([i[0] for i in x1], [i[1] for i in x1], marker, label=f'generation {i}')\n",
    "\n",
    "plt.legend(loc='upper right')\n",
    "plt.show()"
   ]
  },
  {
   "cell_type": "code",
   "execution_count": 34,
   "id": "0ee403a8-855a-4447-81ed-0236e386dda8",
   "metadata": {},
   "outputs": [
    {
     "data": {
      "text/plain": [
       "([16.75949477728324, 3.86302882142366e-06], 12)"
      ]
     },
     "execution_count": 34,
     "metadata": {},
     "output_type": "execute_result"
    }
   ],
   "source": [
    "P[T][0].obj, P[t][-10].rank"
   ]
  },
  {
   "cell_type": "markdown",
   "id": "35d9ea36-b112-4317-8e86-3434db217bd7",
   "metadata": {},
   "source": [
    "### ZDT3\n",
    "\n",
    "There are 30 decision variables for this problem. The two objective functions are:\n",
    "\n",
    "$f_1(x) = x_1$  \n",
    "$f_2(x) = g(x) [1-\\sqrt{\\frac{x_1}{g(x)}}-\\frac{x_1}{g(x)}\\sin(10 \\pi x_1)]$  \n",
    "$g(x) = 1 + 9 \\frac{\\sum_{i=2}^n x_i}{n-1}$"
   ]
  },
  {
   "cell_type": "code",
   "execution_count": 35,
   "id": "a62abea2-39df-4dd8-8a5f-5a02b4c96242",
   "metadata": {
    "tags": []
   },
   "outputs": [],
   "source": [
    "from math import sin, cos\n",
    "\n",
    "# calculate objective functions values only\n",
    "def evaluator(vars):\n",
    "    # need 30 variables\n",
    "    x1 = vars[0]\n",
    "    f1 = x1\n",
    "    g = 1 + 9 * sum(vars[1:]) / (len(vars)-1)\n",
    "    f2 = g * (1-sqrt(x1/g)-x1/g*sin(10*pi*x1))\n",
    "    return [f1, f2]"
   ]
  },
  {
   "cell_type": "code",
   "execution_count": 36,
   "id": "0fe54de5-5bdf-4dcd-b57d-0893beded97d",
   "metadata": {
    "tags": []
   },
   "outputs": [],
   "source": [
    "N = 100\n",
    "T = 100\n",
    "bounds = [[0, 1] for _ in range(30)]\n",
    "numvar = 30\n",
    "varlen = 10\n",
    "\n",
    "crossover_prob = 0.9\n",
    "mutation_prob = 1/numvar/varlen\n",
    "\n",
    "P = nsga2_x(N, T, crossover_prob, mutation_prob, numvar, varlen, bounds, decoder, evaluator)"
   ]
  },
  {
   "cell_type": "code",
   "execution_count": 37,
   "id": "4403b4f8-afce-4e8d-8cf3-fe9be9444976",
   "metadata": {},
   "outputs": [
    {
     "data": {
      "image/png": "[encoded data removed]",
      "text/plain": [
       "<Figure size 640x480 with 1 Axes>"
      ]
     },
     "metadata": {},
     "output_type": "display_data"
    }
   ],
   "source": [
    "P['10K random'] = [solution(numvar, varlen, bounds=bounds, decoder=decoder, evaluator=evaluator) for _ in range(10000)]\n",
    "for i in P['10K random']:\n",
    "    i.evaluate()\n",
    "\n",
    "toplot = ['10K random', 0, T//30, 2*T//30, T]\n",
    "for i in toplot:\n",
    "    x1 = [(p.obj[0], p.obj[1]) for p in P[i]]\n",
    "    x1.sort()\n",
    "    marker = 'o'\n",
    "    if i == T:\n",
    "        marker = 'o-'\n",
    "    plt.plot([i[0] for i in x1], [i[1] for i in x1], marker, label=f'generation {i}')\n",
    "\n",
    "plt.legend(loc='upper right')\n",
    "plt.show()"
   ]
  }
 ],
 "metadata": {
  "kernelspec": {
   "display_name": "Python 3 (ipykernel)",
   "language": "python",
   "name": "python3"
  },
  "language_info": {
   "codemirror_mode": {
    "name": "ipython",
    "version": 3
   },
   "file_extension": ".py",
   "mimetype": "text/x-python",
   "name": "python",
   "nbconvert_exporter": "python",
   "pygments_lexer": "ipython3",
   "version": "3.11.2"
  },
  "toc-autonumbering": false,
  "toc-showcode": false,
  "toc-showmarkdowntxt": false
 },
 "nbformat": 4,
 "nbformat_minor": 5
}
